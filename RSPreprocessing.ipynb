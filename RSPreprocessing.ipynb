{
 "cells": [
  {
   "cell_type": "code",
   "execution_count": 1,
   "metadata": {},
   "outputs": [],
   "source": [
    "import pandas as pd\n",
    "import numpy as np\n",
    "from collections import Counter\n",
    "from sklearn.metrics.pairwise import cosine_similarity"
   ]
  },
  {
   "cell_type": "code",
   "execution_count": 2,
   "metadata": {},
   "outputs": [],
   "source": [
    "# First we load the dataset\n",
    "movies = pd.read_csv('movies.csv')\n",
    "ratings = pd.read_csv(\"ratings.csv\")\n",
    "tag_relevance = pd.read_csv('tag_relevance.csv')\n",
    "user_info = pd.read_csv('user_info.csv')\n",
    "genres = pd.read_csv('genres.csv')"
   ]
  },
  {
   "cell_type": "code",
   "execution_count": 3,
   "metadata": {},
   "outputs": [],
   "source": [
    "# Helper functions which we will use later\n",
    "\n",
    "# Drops columns of a dataframe \n",
    "def drop_df_columns(df, columns_to_drop, axis = 1, inplace=True):\n",
    "    return df.drop(columns_to_drop, axis=axis, inplace=inplace)\n",
    "\n",
    "# Returns genre of a movie based on its title \n",
    "def add_genres(genre, movie_genres):\n",
    "    if genre in movie_genres.split('|'): return 1\n",
    "    else: return 0\n",
    "\n",
    "# Returns released year of the movie    \n",
    "def add_year(movie_title):\n",
    "    year = movie_title[-5:-1]\n",
    "    if year.isnumeric() == True: return int(year)\n",
    "    else: return int(1899)\n",
    "\n",
    "# Returns year group of a movie    \n",
    "def group_by_year(year):\n",
    "    if (year < 1900): return 0\n",
    "    elif (1900 <= year <= 1975): return 1\n",
    "    elif (1976 <= year <= 1995): return 2\n",
    "    elif (1996 <= year <= 2003): return 3\n",
    "    elif (2004 <= year <= 2009): return 4\n",
    "    elif (2010 <= year): return 5\n",
    "    else: return 0\n",
    "    \n",
    "# Set columns of a dataframe\n",
    "def set_columns(df, new_columns):\n",
    "    df.columns = new_columns\n",
    "    return df\n",
    "\n",
    "# Returns the rating group of movies based on rating count \n",
    "def group_by_ratings(count):\n",
    "    if (count <= 1): return 0\n",
    "    elif (2 <= count <= 10): return 1\n",
    "    elif (11 <= count <= 100): return 2\n",
    "    elif (101 <= count <= 1000): return 3\n",
    "    elif (1001 <= count <= 5000): return 4\n",
    "    elif (count >= 5001): return 5\n",
    "    else: return 0\n",
    "    \n",
    "# Returns similar movies based on input movie    \n",
    "def get_similar_movies(similarity_data, movieId):\n",
    "    df = similarity_data.loc[similarity_data.index == movieId].reset_index(). \\\n",
    "    melt(id_vars='movieId', var_name='similar_movieId', value_name='relevance'). \\\n",
    "    sort_values('relevance', axis=0, ascending=False)[1:6]\n",
    "    return df\n",
    "\n",
    "# Returns a dataframe with genres of a given movie\n",
    "def get_genres_by_movie(movies_genres_data, movieId):\n",
    "    movie = movies_genres_data[movies_genres_data['movieId']==movieId]\n",
    "    genres = movie['genres'].tolist()\n",
    "    df = pd.DataFrame([b for a in [genre.split('|') for genre in genres] for b in a], columns=['genres'])\n",
    "    df.insert(loc=0, column='movieId', value=movieId)\n",
    "    return df\n",
    "\n",
    "# Returns favorite genre for a given user\n",
    "def get_favorite_genre(genres_by_user, userId):\n",
    "    user = genres_by_user[genres_by_user['userId']==userId]\n",
    "    genres = user['genres'].tolist()\n",
    "    movie_list = [b for a in [genre.split('|') for genre in genres] for b in a]\n",
    "    counter = Counter(movie_list)\n",
    "    return counter.most_common(1)[0][0]\n",
    "\n",
    "# Exports the data to a csv\n",
    "def export_to_csv(df, file_name_path, sep=',', header=True, index=False):\n",
    "    df.to_csv(file_name_path, sep=sep, header=header, index=index)\n",
    "    \n",
    "def group_by_age(age):\n",
    "    if age in range(1,11): return 0\n",
    "    elif age in range(11,21): return 1\n",
    "    elif age in range(21,31): return 2\n",
    "    elif age in range(31,41): return 3\n",
    "    elif age in range(41,51): return 4\n",
    "    elif (age >= 51): return 5\n",
    "    else: return 0"
   ]
  },
  {
   "cell_type": "code",
   "execution_count": 4,
   "metadata": {},
   "outputs": [],
   "source": [
    "# Create pivot table to compare the movies relevance based on tags\n",
    "relevance_scores_pivot = tag_relevance.pivot_table(index = [\"movieId\"],columns = [\"tagId\"],values = \"relevance\").reset_index()"
   ]
  },
  {
   "cell_type": "code",
   "execution_count": 5,
   "metadata": {},
   "outputs": [],
   "source": [
    "# Join the above table with actual movies dataset by movieId\n",
    "movies_by_tag_relevance = movies.merge(relevance_scores_pivot, left_on='movieId', right_on='movieId', how='left')\n",
    "movies_by_tag_relevance = movies_by_tag_relevance.fillna(0)\n",
    "# movies_by_tag_relevance.head()"
   ]
  },
  {
   "cell_type": "code",
   "execution_count": 6,
   "metadata": {},
   "outputs": [],
   "source": [
    "# Remove unnecessary columns\n",
    "drop_df_columns(movies_by_tag_relevance, ['title','genres'])"
   ]
  },
  {
   "cell_type": "code",
   "execution_count": 7,
   "metadata": {},
   "outputs": [],
   "source": [
    "movies_by_tag_relevance.set_index('movieId', inplace=True)\n",
    "# movies_by_tag_relevance"
   ]
  },
  {
   "cell_type": "code",
   "execution_count": 8,
   "metadata": {},
   "outputs": [],
   "source": [
    "# Create a duplicate of movies dataset to add generes to each movie\n",
    "movies_by_genres = movies.copy()\n",
    "\n",
    "# Now we will categorize movies by genres\n",
    "for genre in genres['genres'].tolist():\n",
    "    movies_by_genres[genre] = movies_by_genres.apply(lambda movie: add_genres(genre, movie['genres']), axis=1)"
   ]
  },
  {
   "cell_type": "code",
   "execution_count": 9,
   "metadata": {},
   "outputs": [],
   "source": [
    "# Remove unnecessary columns\n",
    "drop_df_columns(movies_by_genres, ['title','genres'])\n",
    "movies_by_genres.set_index('movieId', inplace=True)"
   ]
  },
  {
   "cell_type": "code",
   "execution_count": 10,
   "metadata": {},
   "outputs": [],
   "source": [
    "# We will create a separate column for year which the movie was released\n",
    "# This information is already available in the movie title\n",
    "# We just split it to get the year\n",
    "key = 'year'\n",
    "movies_by_year = movies.copy()\n",
    "# We strip the movie title to remove an whitespaces and add released year to the dataframe\n",
    "movies_by_year[key] = movies_by_year.apply(lambda movie: add_year(movie['title'].strip()), axis=1)\n",
    "# movies_by_year"
   ]
  },
  {
   "cell_type": "code",
   "execution_count": 11,
   "metadata": {},
   "outputs": [],
   "source": [
    "# We group movies by their year\n",
    "movies_by_year['year_group'] = movies_by_year.apply(lambda movie: group_by_year(movie['year']), axis=1)"
   ]
  },
  {
   "cell_type": "code",
   "execution_count": 12,
   "metadata": {},
   "outputs": [],
   "source": [
    "# We don't need the title, genres, and year anymore, so we will drop all of them\n",
    "drop_df_columns(movies_by_year, ['title','genres','year'])"
   ]
  },
  {
   "cell_type": "code",
   "execution_count": 13,
   "metadata": {},
   "outputs": [],
   "source": [
    "# We calculate the number of ratings alognside the ratings average for each movie\n",
    "ratings_aggregate = ratings.groupby(['movieId']).agg({'rating': [np.size, np.mean]}).reset_index()\n",
    "ratings_aggregate = set_columns(ratings_aggregate, ['movieId','#ratings', 'rating_avg'])"
   ]
  },
  {
   "cell_type": "code",
   "execution_count": 14,
   "metadata": {},
   "outputs": [],
   "source": [
    "# We categorize movies into groups based on ratings count\n",
    "ratings_aggregate['rating_group'] = ratings_aggregate.apply(lambda movie: group_by_ratings(int(movie['#ratings'])), axis=1)"
   ]
  },
  {
   "cell_type": "code",
   "execution_count": 15,
   "metadata": {},
   "outputs": [],
   "source": [
    "# We don't need the ratings count anymore, so we will drop it\n",
    "drop_df_columns(ratings_aggregate, ['#ratings'])"
   ]
  },
  {
   "cell_type": "code",
   "execution_count": 16,
   "metadata": {},
   "outputs": [],
   "source": [
    "# Join the movies by year with ratings data\n",
    "movies_by_ratings = movies_by_year.merge(ratings_aggregate, left_on='movieId', right_on='movieId', how='left')\n",
    "movies_by_ratings = movies_by_ratings.fillna(0)\n",
    "movies_by_ratings.set_index('movieId', inplace=True)"
   ]
  },
  {
   "cell_type": "code",
   "execution_count": 17,
   "metadata": {},
   "outputs": [],
   "source": [
    "# We calculate the cosine similarity based on tag relevance values\n",
    "tags_similarity = cosine_similarity(movies_by_tag_relevance.values)"
   ]
  },
  {
   "cell_type": "code",
   "execution_count": 18,
   "metadata": {},
   "outputs": [],
   "source": [
    "# We calculate the cosine similarity based on genres\n",
    "genres_similarity = cosine_similarity(movies_by_genres.values)"
   ]
  },
  {
   "cell_type": "code",
   "execution_count": 19,
   "metadata": {},
   "outputs": [],
   "source": [
    "# We calculate the cosine similarity based on movie ratings\n",
    "ratings_similarity = cosine_similarity(movies_by_ratings.values)"
   ]
  },
  {
   "cell_type": "code",
   "execution_count": 20,
   "metadata": {},
   "outputs": [],
   "source": [
    "# We calculate the similarity by assigning some weight as shown below\n",
    "similarity = (tags_similarity * 0.4) + (genres_similarity * 0.3) + (ratings_similarity * 0.3)"
   ]
  },
  {
   "cell_type": "code",
   "execution_count": 21,
   "metadata": {},
   "outputs": [],
   "source": [
    "# Create a dataframe with the similarity score\n",
    "similarity_data = pd.DataFrame(similarity, columns=movies_by_tag_relevance.index.values, index=movies_by_tag_relevance.index)"
   ]
  },
  {
   "cell_type": "code",
   "execution_count": 22,
   "metadata": {},
   "outputs": [],
   "source": [
    "movies_similarity = pd.DataFrame(columns=['movieId','similar_movieId','relevance'])\n",
    "for movie in similarity_data.index.tolist():\n",
    "    movies_similarity = movies_similarity.append(get_similar_movies(similarity_data, movie))"
   ]
  },
  {
   "cell_type": "code",
   "execution_count": 23,
   "metadata": {},
   "outputs": [],
   "source": [
    "# Recommends movie based on the input movie\n",
    "def recommend_movies(movieId):\n",
    "    df = similarity_data.loc[similarity_data.index == movieId].reset_index(). \\\n",
    "            melt(id_vars='movieId', var_name='similar_movieId', value_name='relevance'). \\\n",
    "            sort_values('relevance', axis=0, ascending=False)[1:6]\n",
    "    df['similar_movieId'] = df['similar_movieId'].astype(int)\n",
    "    similar_movies = movies.merge(df, left_on='movieId', right_on='similar_movieId', how='inner'). \\\n",
    "                sort_values('relevance', axis=0, ascending=False). \\\n",
    "                loc[: , ['movieId_y','title','genres']]. \\\n",
    "                rename(columns={ 'movieId_y': \"movieId\" })\n",
    "    return similar_movies"
   ]
  },
  {
   "cell_type": "code",
   "execution_count": 24,
   "metadata": {},
   "outputs": [
    {
     "data": {
      "text/html": [
       "<div>\n",
       "<style scoped>\n",
       "    .dataframe tbody tr th:only-of-type {\n",
       "        vertical-align: middle;\n",
       "    }\n",
       "\n",
       "    .dataframe tbody tr th {\n",
       "        vertical-align: top;\n",
       "    }\n",
       "\n",
       "    .dataframe thead th {\n",
       "        text-align: right;\n",
       "    }\n",
       "</style>\n",
       "<table border=\"1\" class=\"dataframe\">\n",
       "  <thead>\n",
       "    <tr style=\"text-align: right;\">\n",
       "      <th></th>\n",
       "      <th>movieId</th>\n",
       "      <th>title</th>\n",
       "      <th>genres</th>\n",
       "    </tr>\n",
       "  </thead>\n",
       "  <tbody>\n",
       "    <tr>\n",
       "      <td>0</td>\n",
       "      <td>100</td>\n",
       "      <td>Juror, The (1996)</td>\n",
       "      <td>Drama|Thriller</td>\n",
       "    </tr>\n",
       "    <tr>\n",
       "      <td>3</td>\n",
       "      <td>100</td>\n",
       "      <td>Murder in the First (1995)</td>\n",
       "      <td>Drama|Thriller</td>\n",
       "    </tr>\n",
       "    <tr>\n",
       "      <td>4</td>\n",
       "      <td>100</td>\n",
       "      <td>Firm, The (1993)</td>\n",
       "      <td>Drama|Thriller</td>\n",
       "    </tr>\n",
       "    <tr>\n",
       "      <td>1</td>\n",
       "      <td>100</td>\n",
       "      <td>Disclosure (1994)</td>\n",
       "      <td>Drama|Thriller</td>\n",
       "    </tr>\n",
       "    <tr>\n",
       "      <td>2</td>\n",
       "      <td>100</td>\n",
       "      <td>Death and the Maiden (1994)</td>\n",
       "      <td>Drama|Thriller</td>\n",
       "    </tr>\n",
       "  </tbody>\n",
       "</table>\n",
       "</div>"
      ],
      "text/plain": [
       "   movieId                        title          genres\n",
       "0      100            Juror, The (1996)  Drama|Thriller\n",
       "3      100   Murder in the First (1995)  Drama|Thriller\n",
       "4      100             Firm, The (1993)  Drama|Thriller\n",
       "1      100            Disclosure (1994)  Drama|Thriller\n",
       "2      100  Death and the Maiden (1994)  Drama|Thriller"
      ]
     },
     "execution_count": 24,
     "metadata": {},
     "output_type": "execute_result"
    }
   ],
   "source": [
    "recommend_movies(100)"
   ]
  },
  {
   "cell_type": "code",
   "execution_count": 25,
   "metadata": {},
   "outputs": [],
   "source": [
    "# We extract the list of users from ratings provided\n",
    "users = pd.DataFrame(ratings['userId'].unique(), columns=['userId'])"
   ]
  },
  {
   "cell_type": "code",
   "execution_count": 26,
   "metadata": {},
   "outputs": [],
   "source": [
    "# We create a relationship between movies and ratings\n",
    "movies_without_genres = movies.drop('genres', axis = 1)\n",
    "ratings_aggregate_without_group = drop_df_columns(ratings_aggregate, ['rating_group'], 1, False)\n",
    "movies_by_rating_avg = pd.DataFrame(columns=['movieId','title','rating_avg'])\n",
    "movies_by_rating_avg = movies_without_genres.merge(ratings_aggregate_without_group, left_on='movieId', right_on='movieId', how='left')"
   ]
  },
  {
   "cell_type": "code",
   "execution_count": 27,
   "metadata": {},
   "outputs": [],
   "source": [
    "# We will use ratings data to create a relationship between movies and users\n",
    "movies_by_users = drop_df_columns(ratings, ['timestamp'], 1, False)"
   ]
  },
  {
   "cell_type": "code",
   "execution_count": 28,
   "metadata": {},
   "outputs": [],
   "source": [
    "# Gets the genres of a movie\n",
    "movies_genres_data = drop_df_columns(movies, ['title'], 1, False)\n",
    "movies_genres=pd.DataFrame(columns=['movieId','genres'])\n",
    "for movie in movies_genres_data['movieId'].tolist():\n",
    "    movies_genres=movies_genres.append(get_genres_by_movie(movies_genres_data, movie))"
   ]
  },
  {
   "cell_type": "code",
   "execution_count": 29,
   "metadata": {},
   "outputs": [],
   "source": [
    "# Gets genres by user so that we can calculate favorite genres of a user\n",
    "genres_by_user = ratings.merge(movies, left_on='movieId', right_on='movieId', how='left')\n",
    "drop_df_columns(genres_by_user, ['movieId','rating','timestamp','title'])"
   ]
  },
  {
   "cell_type": "code",
   "execution_count": null,
   "metadata": {},
   "outputs": [],
   "source": [
    "# Calculate user's favorite genre\n",
    "users_favorite_genres = pd.DataFrame(columns=['userId','genre'])\n",
    "for userId in genres_by_user['userId'].tolist():\n",
    "    users_favorite_genres = users_favorite_genres.append(pd.DataFrame([[userId, get_favorite_genre(genres_by_user, userId)]], columns=['userId','genre']))\n",
    "users_favorite_genres"
   ]
  },
  {
   "cell_type": "code",
   "execution_count": 39,
   "metadata": {},
   "outputs": [
    {
     "ename": "KeyError",
     "evalue": "\"['random' 'occupation'] not found in axis\"",
     "output_type": "error",
     "traceback": [
      "\u001b[0;31m---------------------------------------------------------------------------\u001b[0m",
      "\u001b[0;31mKeyError\u001b[0m                                  Traceback (most recent call last)",
      "\u001b[0;32m<ipython-input-39-318690915c43>\u001b[0m in \u001b[0;36m<module>\u001b[0;34m\u001b[0m\n\u001b[1;32m      3\u001b[0m \u001b[0;34m\u001b[0m\u001b[0m\n\u001b[1;32m      4\u001b[0m \u001b[0muser_info\u001b[0m\u001b[0;34m[\u001b[0m\u001b[0;34m'age_group'\u001b[0m\u001b[0;34m]\u001b[0m \u001b[0;34m=\u001b[0m \u001b[0muser_info\u001b[0m\u001b[0;34m.\u001b[0m\u001b[0mapply\u001b[0m\u001b[0;34m(\u001b[0m\u001b[0;32mlambda\u001b[0m \u001b[0muser\u001b[0m\u001b[0;34m:\u001b[0m \u001b[0mgroup_by_age\u001b[0m\u001b[0;34m(\u001b[0m\u001b[0mmath\u001b[0m\u001b[0;34m.\u001b[0m\u001b[0mfloor\u001b[0m\u001b[0;34m(\u001b[0m\u001b[0muser\u001b[0m\u001b[0;34m[\u001b[0m\u001b[0;34m'age'\u001b[0m\u001b[0;34m]\u001b[0m\u001b[0;34m)\u001b[0m\u001b[0;34m)\u001b[0m\u001b[0;34m,\u001b[0m \u001b[0maxis\u001b[0m\u001b[0;34m=\u001b[0m\u001b[0;36m1\u001b[0m\u001b[0;34m)\u001b[0m\u001b[0;34m\u001b[0m\u001b[0;34m\u001b[0m\u001b[0m\n\u001b[0;32m----> 5\u001b[0;31m \u001b[0mdrop_df_columns\u001b[0m\u001b[0;34m(\u001b[0m\u001b[0muser_info\u001b[0m\u001b[0;34m,\u001b[0m \u001b[0;34m[\u001b[0m\u001b[0;34m'random'\u001b[0m\u001b[0;34m,\u001b[0m \u001b[0;34m'occupation'\u001b[0m\u001b[0;34m]\u001b[0m\u001b[0;34m)\u001b[0m\u001b[0;34m\u001b[0m\u001b[0;34m\u001b[0m\u001b[0m\n\u001b[0m",
      "\u001b[0;32m<ipython-input-25-12e6ad1c3366>\u001b[0m in \u001b[0;36mdrop_df_columns\u001b[0;34m(df, columns_to_drop, axis, inplace)\u001b[0m\n\u001b[1;32m      3\u001b[0m \u001b[0;31m# Drops columns of a dataframe\u001b[0m\u001b[0;34m\u001b[0m\u001b[0;34m\u001b[0m\u001b[0;34m\u001b[0m\u001b[0m\n\u001b[1;32m      4\u001b[0m \u001b[0;32mdef\u001b[0m \u001b[0mdrop_df_columns\u001b[0m\u001b[0;34m(\u001b[0m\u001b[0mdf\u001b[0m\u001b[0;34m,\u001b[0m \u001b[0mcolumns_to_drop\u001b[0m\u001b[0;34m,\u001b[0m \u001b[0maxis\u001b[0m \u001b[0;34m=\u001b[0m \u001b[0;36m1\u001b[0m\u001b[0;34m,\u001b[0m \u001b[0minplace\u001b[0m\u001b[0;34m=\u001b[0m\u001b[0;32mTrue\u001b[0m\u001b[0;34m)\u001b[0m\u001b[0;34m:\u001b[0m\u001b[0;34m\u001b[0m\u001b[0;34m\u001b[0m\u001b[0m\n\u001b[0;32m----> 5\u001b[0;31m     \u001b[0;32mreturn\u001b[0m \u001b[0mdf\u001b[0m\u001b[0;34m.\u001b[0m\u001b[0mdrop\u001b[0m\u001b[0;34m(\u001b[0m\u001b[0mcolumns_to_drop\u001b[0m\u001b[0;34m,\u001b[0m \u001b[0maxis\u001b[0m\u001b[0;34m=\u001b[0m\u001b[0maxis\u001b[0m\u001b[0;34m,\u001b[0m \u001b[0minplace\u001b[0m\u001b[0;34m=\u001b[0m\u001b[0minplace\u001b[0m\u001b[0;34m)\u001b[0m\u001b[0;34m\u001b[0m\u001b[0;34m\u001b[0m\u001b[0m\n\u001b[0m\u001b[1;32m      6\u001b[0m \u001b[0;34m\u001b[0m\u001b[0m\n\u001b[1;32m      7\u001b[0m \u001b[0;31m# Returns genre of a movie based on its title\u001b[0m\u001b[0;34m\u001b[0m\u001b[0;34m\u001b[0m\u001b[0;34m\u001b[0m\u001b[0m\n",
      "\u001b[0;32m~/opt/anaconda3/lib/python3.7/site-packages/pandas/core/frame.py\u001b[0m in \u001b[0;36mdrop\u001b[0;34m(self, labels, axis, index, columns, level, inplace, errors)\u001b[0m\n\u001b[1;32m   4100\u001b[0m             \u001b[0mlevel\u001b[0m\u001b[0;34m=\u001b[0m\u001b[0mlevel\u001b[0m\u001b[0;34m,\u001b[0m\u001b[0;34m\u001b[0m\u001b[0;34m\u001b[0m\u001b[0m\n\u001b[1;32m   4101\u001b[0m             \u001b[0minplace\u001b[0m\u001b[0;34m=\u001b[0m\u001b[0minplace\u001b[0m\u001b[0;34m,\u001b[0m\u001b[0;34m\u001b[0m\u001b[0;34m\u001b[0m\u001b[0m\n\u001b[0;32m-> 4102\u001b[0;31m             \u001b[0merrors\u001b[0m\u001b[0;34m=\u001b[0m\u001b[0merrors\u001b[0m\u001b[0;34m,\u001b[0m\u001b[0;34m\u001b[0m\u001b[0;34m\u001b[0m\u001b[0m\n\u001b[0m\u001b[1;32m   4103\u001b[0m         )\n\u001b[1;32m   4104\u001b[0m \u001b[0;34m\u001b[0m\u001b[0m\n",
      "\u001b[0;32m~/opt/anaconda3/lib/python3.7/site-packages/pandas/core/generic.py\u001b[0m in \u001b[0;36mdrop\u001b[0;34m(self, labels, axis, index, columns, level, inplace, errors)\u001b[0m\n\u001b[1;32m   3912\u001b[0m         \u001b[0;32mfor\u001b[0m \u001b[0maxis\u001b[0m\u001b[0;34m,\u001b[0m \u001b[0mlabels\u001b[0m \u001b[0;32min\u001b[0m \u001b[0maxes\u001b[0m\u001b[0;34m.\u001b[0m\u001b[0mitems\u001b[0m\u001b[0;34m(\u001b[0m\u001b[0;34m)\u001b[0m\u001b[0;34m:\u001b[0m\u001b[0;34m\u001b[0m\u001b[0;34m\u001b[0m\u001b[0m\n\u001b[1;32m   3913\u001b[0m             \u001b[0;32mif\u001b[0m \u001b[0mlabels\u001b[0m \u001b[0;32mis\u001b[0m \u001b[0;32mnot\u001b[0m \u001b[0;32mNone\u001b[0m\u001b[0;34m:\u001b[0m\u001b[0;34m\u001b[0m\u001b[0;34m\u001b[0m\u001b[0m\n\u001b[0;32m-> 3914\u001b[0;31m                 \u001b[0mobj\u001b[0m \u001b[0;34m=\u001b[0m \u001b[0mobj\u001b[0m\u001b[0;34m.\u001b[0m\u001b[0m_drop_axis\u001b[0m\u001b[0;34m(\u001b[0m\u001b[0mlabels\u001b[0m\u001b[0;34m,\u001b[0m \u001b[0maxis\u001b[0m\u001b[0;34m,\u001b[0m \u001b[0mlevel\u001b[0m\u001b[0;34m=\u001b[0m\u001b[0mlevel\u001b[0m\u001b[0;34m,\u001b[0m \u001b[0merrors\u001b[0m\u001b[0;34m=\u001b[0m\u001b[0merrors\u001b[0m\u001b[0;34m)\u001b[0m\u001b[0;34m\u001b[0m\u001b[0;34m\u001b[0m\u001b[0m\n\u001b[0m\u001b[1;32m   3915\u001b[0m \u001b[0;34m\u001b[0m\u001b[0m\n\u001b[1;32m   3916\u001b[0m         \u001b[0;32mif\u001b[0m \u001b[0minplace\u001b[0m\u001b[0;34m:\u001b[0m\u001b[0;34m\u001b[0m\u001b[0;34m\u001b[0m\u001b[0m\n",
      "\u001b[0;32m~/opt/anaconda3/lib/python3.7/site-packages/pandas/core/generic.py\u001b[0m in \u001b[0;36m_drop_axis\u001b[0;34m(self, labels, axis, level, errors)\u001b[0m\n\u001b[1;32m   3944\u001b[0m                 \u001b[0mnew_axis\u001b[0m \u001b[0;34m=\u001b[0m \u001b[0maxis\u001b[0m\u001b[0;34m.\u001b[0m\u001b[0mdrop\u001b[0m\u001b[0;34m(\u001b[0m\u001b[0mlabels\u001b[0m\u001b[0;34m,\u001b[0m \u001b[0mlevel\u001b[0m\u001b[0;34m=\u001b[0m\u001b[0mlevel\u001b[0m\u001b[0;34m,\u001b[0m \u001b[0merrors\u001b[0m\u001b[0;34m=\u001b[0m\u001b[0merrors\u001b[0m\u001b[0;34m)\u001b[0m\u001b[0;34m\u001b[0m\u001b[0;34m\u001b[0m\u001b[0m\n\u001b[1;32m   3945\u001b[0m             \u001b[0;32melse\u001b[0m\u001b[0;34m:\u001b[0m\u001b[0;34m\u001b[0m\u001b[0;34m\u001b[0m\u001b[0m\n\u001b[0;32m-> 3946\u001b[0;31m                 \u001b[0mnew_axis\u001b[0m \u001b[0;34m=\u001b[0m \u001b[0maxis\u001b[0m\u001b[0;34m.\u001b[0m\u001b[0mdrop\u001b[0m\u001b[0;34m(\u001b[0m\u001b[0mlabels\u001b[0m\u001b[0;34m,\u001b[0m \u001b[0merrors\u001b[0m\u001b[0;34m=\u001b[0m\u001b[0merrors\u001b[0m\u001b[0;34m)\u001b[0m\u001b[0;34m\u001b[0m\u001b[0;34m\u001b[0m\u001b[0m\n\u001b[0m\u001b[1;32m   3947\u001b[0m             \u001b[0mresult\u001b[0m \u001b[0;34m=\u001b[0m \u001b[0mself\u001b[0m\u001b[0;34m.\u001b[0m\u001b[0mreindex\u001b[0m\u001b[0;34m(\u001b[0m\u001b[0;34m**\u001b[0m\u001b[0;34m{\u001b[0m\u001b[0maxis_name\u001b[0m\u001b[0;34m:\u001b[0m \u001b[0mnew_axis\u001b[0m\u001b[0;34m}\u001b[0m\u001b[0;34m)\u001b[0m\u001b[0;34m\u001b[0m\u001b[0;34m\u001b[0m\u001b[0m\n\u001b[1;32m   3948\u001b[0m \u001b[0;34m\u001b[0m\u001b[0m\n",
      "\u001b[0;32m~/opt/anaconda3/lib/python3.7/site-packages/pandas/core/indexes/base.py\u001b[0m in \u001b[0;36mdrop\u001b[0;34m(self, labels, errors)\u001b[0m\n\u001b[1;32m   5338\u001b[0m         \u001b[0;32mif\u001b[0m \u001b[0mmask\u001b[0m\u001b[0;34m.\u001b[0m\u001b[0many\u001b[0m\u001b[0;34m(\u001b[0m\u001b[0;34m)\u001b[0m\u001b[0;34m:\u001b[0m\u001b[0;34m\u001b[0m\u001b[0;34m\u001b[0m\u001b[0m\n\u001b[1;32m   5339\u001b[0m             \u001b[0;32mif\u001b[0m \u001b[0merrors\u001b[0m \u001b[0;34m!=\u001b[0m \u001b[0;34m\"ignore\"\u001b[0m\u001b[0;34m:\u001b[0m\u001b[0;34m\u001b[0m\u001b[0;34m\u001b[0m\u001b[0m\n\u001b[0;32m-> 5340\u001b[0;31m                 \u001b[0;32mraise\u001b[0m \u001b[0mKeyError\u001b[0m\u001b[0;34m(\u001b[0m\u001b[0;34m\"{} not found in axis\"\u001b[0m\u001b[0;34m.\u001b[0m\u001b[0mformat\u001b[0m\u001b[0;34m(\u001b[0m\u001b[0mlabels\u001b[0m\u001b[0;34m[\u001b[0m\u001b[0mmask\u001b[0m\u001b[0;34m]\u001b[0m\u001b[0;34m)\u001b[0m\u001b[0;34m)\u001b[0m\u001b[0;34m\u001b[0m\u001b[0;34m\u001b[0m\u001b[0m\n\u001b[0m\u001b[1;32m   5341\u001b[0m             \u001b[0mindexer\u001b[0m \u001b[0;34m=\u001b[0m \u001b[0mindexer\u001b[0m\u001b[0;34m[\u001b[0m\u001b[0;34m~\u001b[0m\u001b[0mmask\u001b[0m\u001b[0;34m]\u001b[0m\u001b[0;34m\u001b[0m\u001b[0;34m\u001b[0m\u001b[0m\n\u001b[1;32m   5342\u001b[0m         \u001b[0;32mreturn\u001b[0m \u001b[0mself\u001b[0m\u001b[0;34m.\u001b[0m\u001b[0mdelete\u001b[0m\u001b[0;34m(\u001b[0m\u001b[0mindexer\u001b[0m\u001b[0;34m)\u001b[0m\u001b[0;34m\u001b[0m\u001b[0;34m\u001b[0m\u001b[0m\n",
      "\u001b[0;31mKeyError\u001b[0m: \"['random' 'occupation'] not found in axis\""
     ]
    }
   ],
   "source": [
    "# Now we format the user information for age\n",
    "import math\n",
    "\n",
    "user_info['age_group'] = user_info.apply(lambda user: group_by_age(math.floor(user['age'])), axis=1)\n",
    "drop_df_columns(user_info, ['random', 'occupation'])"
   ]
  },
  {
   "cell_type": "code",
   "execution_count": null,
   "metadata": {},
   "outputs": [],
   "source": [
    "user_ages_aggregate = user_info.groupby(['age_group']).agg({'age': [np.size, np.mean]}).reset_index()\n",
    "\n",
    "user_ages_aggregate"
   ]
  },
  {
   "cell_type": "code",
   "execution_count": null,
   "metadata": {},
   "outputs": [],
   "source": [
    "# user_ages_aggregate.columns = ['age_group']"
   ]
  },
  {
   "cell_type": "code",
   "execution_count": 345,
   "metadata": {},
   "outputs": [],
   "source": [
    "export_to_csv(users, './cleaned_data/users.csv')\n",
    "export_to_csv(movies_by_year, './cleaned_data/movies.csv')\n",
    "export_to_csv(movies_by_users, './cleaned_data/movies_by_users.csv')\n",
    "export_to_csv(movies_genres, './cleaned_data/movies_genres.csv')\n",
    "export_to_csv(users_favorite_genres, './cleaned_data/users_favorite_genres.csv')\n",
    "export_to_csv(movies_similarity, './cleaned_data/movies_similarity.csv')\n",
    "export_to_csv(user_info, './cleaned_data/users_by_age.csv')\n",
    "export_to_csv(user_ages_aggregate, './cleaned_data/user_age_groups.csv')"
   ]
  },
  {
   "cell_type": "code",
   "execution_count": 321,
   "metadata": {},
   "outputs": [],
   "source": []
  },
  {
   "cell_type": "code",
   "execution_count": null,
   "metadata": {},
   "outputs": [],
   "source": []
  }
 ],
 "metadata": {
  "kernelspec": {
   "display_name": "Python 3",
   "language": "python",
   "name": "python3"
  },
  "language_info": {
   "codemirror_mode": {
    "name": "ipython",
    "version": 3
   },
   "file_extension": ".py",
   "mimetype": "text/x-python",
   "name": "python",
   "nbconvert_exporter": "python",
   "pygments_lexer": "ipython3",
   "version": "3.7.4"
  }
 },
 "nbformat": 4,
 "nbformat_minor": 2
}
